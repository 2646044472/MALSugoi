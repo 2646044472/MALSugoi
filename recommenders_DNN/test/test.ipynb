{
 "cells": [
  {
   "cell_type": "code",
   "execution_count": 1,
   "metadata": {},
   "outputs": [],
   "source": [
    "import pandas as pd\n",
    "import numpy as np"
   ]
  },
  {
   "cell_type": "code",
   "execution_count": 2,
   "metadata": {},
   "outputs": [],
   "source": [
    "import torch\n",
    "import torch.nn as nn\n",
    "import torch.nn.functional as F\n",
    "from torch.utils.data import DataLoader, TensorDataset\n",
    "import numpy as np\n",
    "\n",
    "# 模型定义\n",
    "class AnimeRatingPredictor(nn.Module):\n",
    "    def __init__(self, input_size, hidden_sizes=[512, 256, 128], dropout=0.3):\n",
    "        \"\"\"\n",
    "        全连接神经网络，适配输入维度\n",
    "        :param input_size: 输入特征的维度\n",
    "        :param hidden_sizes: 隐藏层每层的神经元数量\n",
    "        :param dropout: Dropout 概率\n",
    "        \"\"\"\n",
    "        super(AnimeRatingPredictor, self).__init__()\n",
    "\n",
    "        # 定义全连接层\n",
    "        self.fc1 = nn.Linear(input_size, hidden_sizes[0])\n",
    "        self.bn1 = nn.BatchNorm1d(hidden_sizes[0])  # Batch Normalization\n",
    "        \n",
    "        self.fc2 = nn.Linear(hidden_sizes[0], hidden_sizes[1])\n",
    "        self.bn2 = nn.BatchNorm1d(hidden_sizes[1])\n",
    "        \n",
    "        self.fc3 = nn.Linear(hidden_sizes[1], hidden_sizes[2])\n",
    "        self.bn3 = nn.BatchNorm1d(hidden_sizes[2])\n",
    "        \n",
    "        # 输出层\n",
    "        self.output = nn.Linear(hidden_sizes[2], 1)\n",
    "        \n",
    "        # Dropout 层\n",
    "        self.dropout = nn.Dropout(dropout)\n",
    "    \n",
    "    def forward(self, x):\n",
    "        \"\"\"\n",
    "        前向传播\n",
    "        :param x: 输入特征\n",
    "        :return: 预测评分，范围 [1, 10]\n",
    "        \"\"\"\n",
    "        # 第一层\n",
    "        x = F.relu(self.bn1(self.fc1(x)))\n",
    "        x = self.dropout(x)\n",
    "        \n",
    "        # 第二层\n",
    "        x = F.relu(self.bn2(self.fc2(x)))\n",
    "        x = self.dropout(x)\n",
    "        \n",
    "        # 第三层\n",
    "        x = F.relu(self.bn3(self.fc3(x)))\n",
    "        x = self.dropout(x)\n",
    "        \n",
    "        # 输出层 (限制范围在 [1, 10])\n",
    "        x = self.output(x)\n",
    "        x = torch.sigmoid(x) * 9 + 1  # 映射到 [1, 10]\n",
    "        return x"
   ]
  },
  {
   "cell_type": "code",
   "execution_count": 3,
   "metadata": {},
   "outputs": [
    {
     "name": "stdout",
     "output_type": "stream",
     "text": [
      "Current working directory: c:\\Users\\admin\\Documents\\GitHub\\MALSugoi\n"
     ]
    }
   ],
   "source": [
    "import os\n",
    "import sys\n",
    "\n",
    "# run this block once only\n",
    "project_root = os.path.abspath(\"../../\")  # 根据文件层级调整路径\n",
    "os.chdir(project_root)\n",
    "\n",
    "if project_root not in sys.path:\n",
    "    sys.path.insert(0, project_root)\n",
    "\n",
    "import os\n",
    "\n",
    "# 打印当前工作目录\n",
    "current_directory = os.getcwd()\n",
    "print(f\"Current working directory: {current_directory}\")"
   ]
  },
  {
   "cell_type": "code",
   "execution_count": 4,
   "metadata": {},
   "outputs": [
    {
     "name": "stdout",
     "output_type": "stream",
     "text": [
      "Model loaded successfully.\n"
     ]
    },
    {
     "name": "stderr",
     "output_type": "stream",
     "text": [
      "C:\\Users\\admin\\AppData\\Local\\Temp\\ipykernel_18848\\511128740.py:3: FutureWarning: You are using `torch.load` with `weights_only=False` (the current default value), which uses the default pickle module implicitly. It is possible to construct malicious pickle data which will execute arbitrary code during unpickling (See https://github.com/pytorch/pytorch/blob/main/SECURITY.md#untrusted-models for more details). In a future release, the default value for `weights_only` will be flipped to `True`. This limits the functions that could be executed during unpickling. Arbitrary objects will no longer be allowed to be loaded via this mode unless they are explicitly allowlisted by the user via `torch.serialization.add_safe_globals`. We recommend you start setting `weights_only=True` for any use case where you don't have full control of the loaded file. Please open an issue on GitHub for any issues related to this experimental feature.\n",
      "  model = torch.load(model_path)\n"
     ]
    }
   ],
   "source": [
    "import torch\n",
    "model_path = \"recommenders_DNN/model/model.pth\"\n",
    "model = torch.load(model_path)\n",
    "model.eval()  # 设置为评估模式\n",
    "print(\"Model loaded successfully.\")"
   ]
  },
  {
   "cell_type": "code",
   "execution_count": 5,
   "metadata": {},
   "outputs": [],
   "source": [
    "device = torch.device(\"cuda\" if torch.cuda.is_available() else \"cpu\")"
   ]
  },
  {
   "cell_type": "code",
   "execution_count": 6,
   "metadata": {},
   "outputs": [],
   "source": [
    "# 2. 加载番剧特征数据\n",
    "anime_data = pd.read_csv('./data/anime_info/anime_data.csv')\n",
    "\n",
    "# 清理数据（与之前一致）\n",
    "anime_data['score'] = anime_data['score'].replace('-', 0).astype(float)\n",
    "anime_data['members'] = anime_data['members'].str.replace(',', '').astype(float)\n",
    "anime_data['favorites'] = anime_data['favorites'].str.replace(',', '').astype(float)\n",
    "anime_data['popularity'] = anime_data['popularity'].str.replace('#', '').astype(float)\n",
    "anime_data['ranked'] = anime_data['ranked'].str.replace('#', '').replace('-', 0).astype(float)\n",
    "\n",
    "# 编码 genres\n",
    "from sklearn.preprocessing import MultiLabelBinarizer, StandardScaler\n",
    "\n",
    "def preprocess_genres(genres_series):\n",
    "    genres_series = genres_series.fillna('')\n",
    "    genres_list = genres_series.str.split(', ')\n",
    "    mlb = MultiLabelBinarizer()\n",
    "    genres_encoded = mlb.fit_transform(genres_list)\n",
    "    return genres_encoded, mlb.classes_\n",
    "\n",
    "genres_encoded, genres_classes = preprocess_genres(anime_data['genres'])\n",
    "anime_data = anime_data.join(pd.DataFrame(genres_encoded, columns=genres_classes))\n",
    "\n",
    "# 特征列\n",
    "anime_features = ['score', 'ranked', 'popularity', 'members', 'favorites'] + list(genres_classes)\n",
    "\n",
    "# 标准化特征\n",
    "scaler = StandardScaler()\n",
    "anime_data[anime_features] = scaler.fit_transform(anime_data[anime_features])\n",
    "\n",
    "# 转换为 tensor\n",
    "anime_tensor = torch.tensor(anime_data[anime_features].values, dtype=torch.float32).to(device)\n",
    "titles = anime_data['title'].values\n",
    "title_to_index = {title: idx for idx, title in enumerate(titles)}\n",
    "\n",
    "# 3. 加载用户评分数据\n",
    "user_input = pd.read_csv('./recommenders_DNN/test/input.txt', header=None, names=['username', 'anime', 'rating'])\n",
    "user_input['rating'] = user_input['rating'].replace('-', 0).astype(float)  # 将 '-' 转为 0\n",
    "\n",
    "# 获取用户的历史评分\n",
    "user_history = user_input[user_input['rating'] > 0][['anime', 'rating']].set_index('anime')['rating'].to_dict()"
   ]
  },
  {
   "cell_type": "code",
   "execution_count": null,
   "metadata": {},
   "outputs": [
    {
     "name": "stdout",
     "output_type": "stream",
     "text": [
      "Top 10 推荐的番剧：\n",
      "1. Shingeki no Kyojin (预测评分: 9.77)\n",
      "2. Shingeki no Kyojin Season 3 Part 2 (预测评分: 9.70)\n",
      "3. Shingeki no Kyojin: The Final Season (预测评分: 9.64)\n",
      "4. Shingeki no Kyojin: The Final Season - Kanketsu-hen (预测评分: 9.62)\n",
      "5. Shingeki no Kyojin: The Final Season Part 2 (预测评分: 9.62)\n",
      "6. Code Geass: Hangyaku no Lelouch R2 (预测评分: 9.60)\n",
      "7. Saiki Kusuo no Ψ-nan (预测评分: 9.60)\n",
      "8. Saiki Kusuo no Ψ-nan 2 (预测评分: 9.60)\n",
      "9. Gintama°: Aizome Kaori-hen (预测评分: 9.58)\n",
      "10. Shingeki no Kyojin Season 3 (预测评分: 9.57)\n",
      "11. Nichijou (预测评分: 9.57)\n",
      "12. Koukaku Kidoutai: Stand Alone Complex (预测评分: 9.57)\n",
      "13. Ping Pong the Animation (预测评分: 9.57)\n",
      "14. Sakigake!! Cromartie Koukou (预测评分: 9.56)\n",
      "15. Shingeki no Kyojin Season 2 (预测评分: 9.55)\n",
      "16. Saiki Kusuo no Ψ-nan: Kanketsu-hen (预测评分: 9.54)\n",
      "17. Grand Blue (预测评分: 9.53)\n",
      "18. Tentai Senshi Sunred (预测评分: 9.53)\n",
      "19. Tentai Senshi Sunred 2nd Season (预测评分: 9.52)\n",
      "20. Saiki Kusuo no Ψ-nan: Ψ-shidou-hen (预测评分: 9.51)\n",
      "21. Dungeon Meshi (预测评分: 9.51)\n",
      "22. Great Teacher Onizuka (预测评分: 9.50)\n",
      "23. Code Geass: Hangyaku no Lelouch (预测评分: 9.50)\n",
      "24. Yume-iro Pâtissière (预测评分: 9.50)\n",
      "25. Yakitate!! Japan (预测评分: 9.49)\n",
      "26. Kusuriya no Hitorigoto (预测评分: 9.49)\n",
      "27. Steins;Gate (预测评分: 9.47)\n",
      "28. Danshi Koukousei no Nichijou (预测评分: 9.46)\n",
      "29. Princess Tutu (预测评分: 9.45)\n",
      "30. Koe no Katachi (预测评分: 9.45)\n",
      "31. Osomatsu-san (预测评分: 9.44)\n",
      "32. Hunter x Hunter (2011) (预测评分: 9.44)\n",
      "33. Chihayafuru 3 (预测评分: 9.44)\n",
      "34. Cardcaptor Sakura: Kero-chan ni Omakase! (预测评分: 9.43)\n",
      "35. Detroit Metal City (预测评分: 9.43)\n",
      "36. Asobi Asobase (预测评分: 9.43)\n",
      "37. Violet Evergarden Movie (预测评分: 9.42)\n",
      "38. Koukaku Kidoutai: Stand Alone Complex - Solid State Society (预测评分: 9.41)\n",
      "39. Naruto: Shippuuden - Sunny Side Battle (预测评分: 9.41)\n",
      "40. Kimi no Na wa. (预测评分: 9.41)\n",
      "41. Shokugeki no Souma (预测评分: 9.40)\n",
      "42. Ginga Eiyuu Densetsu (预测评分: 9.40)\n",
      "43. Sayonara Zetsubou Sensei (预测评分: 9.40)\n",
      "44. Chihayafuru 2 (预测评分: 9.39)\n",
      "45. Binbougami ga! (预测评分: 9.39)\n",
      "46. One Piece (预测评分: 9.38)\n",
      "47. Zoku Sayonara Zetsubou Sensei (预测评分: 9.38)\n",
      "48. Kanata no Astra (预测评分: 9.38)\n",
      "49. Zan Sayonara Zetsubou Sensei (预测评分: 9.37)\n",
      "50. Jungle wa Itsumo Hare nochi Guu Final (预测评分: 9.36)\n"
     ]
    }
   ],
   "source": [
    "def generate_recommendations(model, user_history, anime_tensor, title_to_index, top_k):\n",
    "    \"\"\"\n",
    "    根据用户历史评分生成推荐\n",
    "    \"\"\"\n",
    "    history_features = []\n",
    "    for anime, rating in user_history.items():\n",
    "        if anime in title_to_index:\n",
    "            anime_idx = title_to_index[anime]\n",
    "            anime_feature = anime_tensor[anime_idx]\n",
    "            history_features.append(anime_feature * rating)\n",
    "    \n",
    "    # 如果没有用户历史，返回空推荐\n",
    "    if len(history_features) == 0:\n",
    "        return []\n",
    "\n",
    "    # 聚合历史特征（取均值）\n",
    "    history_features = torch.stack(history_features).mean(dim=0)\n",
    "\n",
    "    # 对所有未评分的番剧进行预测\n",
    "    predictions = {}\n",
    "    for title, idx in title_to_index.items():\n",
    "        if title not in user_history:  # 只推荐未评分的番剧\n",
    "            input_features = torch.cat([history_features, anime_tensor[idx]])\n",
    "            input_features = input_features.unsqueeze(0)  # 增加 batch 维度\n",
    "            predicted_rating = model(input_features.to(device)).item()\n",
    "            predictions[title] = predicted_rating\n",
    "\n",
    "    # 按评分排序，返回前 top_k\n",
    "    recommended_titles = sorted(predictions.items(), key=lambda x: x[1], reverse=True)[:top_k]\n",
    "    return recommended_titles"
   ]
  },
  {
   "cell_type": "code",
   "execution_count": null,
   "metadata": {},
   "outputs": [],
   "source": [
    "# 生成推荐\n",
    "recommendations = generate_recommendations(model, user_history, anime_tensor, title_to_index, top_k=50)\n",
    "\n",
    "# 将结果存储到 Pandas DataFrame\n",
    "recommendations_df = pd.DataFrame(recommendations, columns=[\"Title\", \"Predicted Rating\"])\n",
    "\n",
    "print(recommendations_df.head(50))"
   ]
  },
  {
   "cell_type": "markdown",
   "metadata": {},
   "source": []
  }
 ],
 "metadata": {
  "kernelspec": {
   "display_name": "MALSugoi",
   "language": "python",
   "name": "python3"
  },
  "language_info": {
   "codemirror_mode": {
    "name": "ipython",
    "version": 3
   },
   "file_extension": ".py",
   "mimetype": "text/x-python",
   "name": "python",
   "nbconvert_exporter": "python",
   "pygments_lexer": "ipython3",
   "version": "3.10.15"
  }
 },
 "nbformat": 4,
 "nbformat_minor": 2
}
