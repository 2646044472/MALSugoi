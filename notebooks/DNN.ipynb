{
 "cells": [
  {
   "cell_type": "code",
   "execution_count": 1,
   "id": "9d4fecc1-f828-4942-98e8-f381073e9894",
   "metadata": {},
   "outputs": [],
   "source": [
    "import torch\n",
    "import torch.nn as nn\n",
    "import torch.optim as optim\n",
    "import torch.nn.functional as F\n",
    "from torch.utils.data import Dataset, DataLoader"
   ]
  },
  {
   "cell_type": "code",
   "execution_count": 2,
   "id": "c74b58ea-1c36-48f3-992a-7dc3d9e1987d",
   "metadata": {},
   "outputs": [],
   "source": [
    "class AnimeRecommendationModel(nn.Module):\n",
    "    def __init__(self, num_users, num_animes, genres_dim=10, embed_dim=32):\n",
    "        super(AnimeRecommendationModel, self).__init__()\n",
    "        \n",
    "        # 用户和番剧的嵌入层\n",
    "        self.user_embedding = nn.Embedding(num_users, embed_dim)  # 用户ID的embedding层\n",
    "        self.anime_embedding = nn.Embedding(num_animes, embed_dim)  # 番剧ID的embedding层\n",
    "        \n",
    "        # 用户的其他特征 (如年龄) 全连接层\n",
    "        self.user_age_fc = nn.Linear(1, 16)  # 将年龄映射到16维\n",
    "        \n",
    "        # 番剧的其他特征 (如评分、收藏数、成员数) 全连接层\n",
    "        self.anime_meta_fc = nn.Linear(3, 16)  # 将番剧评分，收藏数，成员数映射到16维\n",
    "        \n",
    "        # 类别特征嵌入\n",
    "        self.genre_embedding = nn.Embedding(genres_dim, 8)  # 假设有10类番剧类型，每个映射到8维\n",
    "        \n",
    "        # 全连接层\n",
    "        self.fc1 = nn.Linear(embed_dim * 2 + 16 * 2 + 8, 128)  # 拼接后的输入size：用户和番剧嵌入，其他特征\n",
    "        self.fc2 = nn.Linear(128, 64)\n",
    "        self.fc3 = nn.Linear(64, 1)  # 输出层，预测评分\n",
    "        \n",
    "    def forward(self, user_id, user_age, anime_id, anime_meta, genre_id):\n",
    "        # 用户嵌入特征\n",
    "        user_embed = self.user_embedding(user_id)  # (batch_size, embed_dim)\n",
    "        user_age_embed = F.relu(self.user_age_fc(user_age))  # (batch_size, 16)\n",
    "        \n",
    "        # 番剧嵌入特征\n",
    "        anime_embed = self.anime_embedding(anime_id)  # (batch_size, embed_dim)\n",
    "        anime_meta_embed = F.relu(self.anime_meta_fc(anime_meta))  # (batch_size, 16)\n",
    "        \n",
    "        # 番剧类型嵌入\n",
    "        genre_embed = self.genre_embedding(genre_id).mean(dim=1)  # (batch_size, 8), 对多个genre取均值\n",
    "        \n",
    "        # 拼接所有特征\n",
    "        concat_features = torch.cat([user_embed, user_age_embed, anime_embed, anime_meta_embed, genre_embed], dim=1)\n",
    "        \n",
    "        # 全连接层\n",
    "        x = F.relu(self.fc1(concat_features))\n",
    "        x = F.relu(self.fc2(x))\n",
    "        output = self.fc3(x)  # 输出评分\n",
    "        \n",
    "        return output"
   ]
  },
  {
   "cell_type": "code",
   "execution_count": null,
   "id": "1f919f0f-7597-4e96-a936-3061bfe0a69f",
   "metadata": {},
   "outputs": [],
   "source": []
  }
 ],
 "metadata": {
  "kernelspec": {
   "display_name": "Python 3 (ipykernel)",
   "language": "python",
   "name": "python3"
  },
  "language_info": {
   "codemirror_mode": {
    "name": "ipython",
    "version": 3
   },
   "file_extension": ".py",
   "mimetype": "text/x-python",
   "name": "python",
   "nbconvert_exporter": "python",
   "pygments_lexer": "ipython3",
   "version": "3.10.15"
  }
 },
 "nbformat": 4,
 "nbformat_minor": 5
}
