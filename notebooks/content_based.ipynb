{
 "cells": [
  {
   "cell_type": "code",
   "execution_count": null,
   "metadata": {
    "vscode": {
     "languageId": "plaintext"
    }
   },
   "outputs": [],
   "source": [
    "# 关于这个我们可以从一个用户的anime list 出发，查找他/她评分高的那些anime,然后将它们的标签整理一下，然后根据这些标签去查找相似anime，最后根据这些anime的评分做排序来推荐\n"
   ]
  }
 ],
 "metadata": {
  "language_info": {
   "name": "python"
  }
 },
 "nbformat": 4,
 "nbformat_minor": 2
}
