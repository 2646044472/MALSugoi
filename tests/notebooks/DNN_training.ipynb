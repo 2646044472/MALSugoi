{
 "cells": [
  {
   "cell_type": "markdown",
   "id": "5960edbe",
   "metadata": {},
   "source": [
    "### Process data from csv"
   ]
  },
  {
   "cell_type": "code",
   "execution_count": 1,
   "id": "9d4fecc1-f828-4942-98e8-f381073e9894",
   "metadata": {},
   "outputs": [],
   "source": [
    "import torch.nn as nn\n",
    "import torch.optim as optim\n",
    "import torch.nn.functional as F\n",
    "from torch.utils.data import Dataset, DataLoader\n",
    "import numpy as np"
   ]
  },
  {
   "cell_type": "code",
   "execution_count": 2,
   "id": "a451aeaf",
   "metadata": {},
   "outputs": [],
   "source": [
    "import os\n",
    "import sys\n",
    "\n",
    "# run this block once only\n",
    "project_root = os.path.abspath(\"../../\")  # 根据文件层级调整路径\n",
    "os.chdir(project_root)\n",
    "\n",
    "if project_root not in sys.path:\n",
    "    sys.path.insert(0, project_root)"
   ]
  },
  {
   "cell_type": "markdown",
   "id": "c2286ecb",
   "metadata": {},
   "source": [
    "### Loading data"
   ]
  },
  {
   "cell_type": "code",
   "execution_count": 3,
   "id": "b8876e47",
   "metadata": {},
   "outputs": [
    {
     "name": "stdout",
     "output_type": "stream",
     "text": [
      "数据从 processed_data/ 加载完成\n"
     ]
    }
   ],
   "source": [
    "def load_data(save_path='processed_data/'):\n",
    "    \"\"\"\n",
    "    从文件中加载训练数据和测试数据\n",
    "    \"\"\"\n",
    "    X = np.load(save_path + 'X.npy')\n",
    "    y = np.load(save_path + 'y.npy')\n",
    "    X_train = np.load(save_path + 'X_train.npy')\n",
    "    X_test = np.load(save_path + 'X_test.npy')\n",
    "    y_train = np.load(save_path + 'y_train.npy')\n",
    "    y_test = np.load(save_path + 'y_test.npy')\n",
    "    \n",
    "    print(f\"数据从 {save_path} 加载完成\")\n",
    "    return X, y, X_train, X_test, y_train, y_test\n",
    "X, y, X_train, X_test, y_train, y_test = load_data()"
   ]
  },
  {
   "cell_type": "code",
   "execution_count": 8,
   "id": "67575d0e",
   "metadata": {},
   "outputs": [
    {
     "data": {
      "text/plain": [
       "(15657, 164)"
      ]
     },
     "execution_count": 8,
     "metadata": {},
     "output_type": "execute_result"
    }
   ],
   "source": [
    "X.shape"
   ]
  },
  {
   "cell_type": "code",
   "execution_count": 7,
   "id": "993c66f8",
   "metadata": {},
   "outputs": [
    {
     "name": "stdout",
     "output_type": "stream",
     "text": [
      "包含 NaN 的行数: 9187\n",
      "包含 NaN 的行号: [    0     1     2 ... 15654 15655 15656]\n"
     ]
    }
   ],
   "source": [
    "import numpy as np\n",
    "\n",
    "# 示例数组 X (替换为你的数据)\n",
    "# 假设 X 是你的数组\n",
    "\n",
    "# 找出包含 NaN 的行\n",
    "nan_rows = np.isnan(X).any(axis=1)  # 布尔数组，True 表示该行包含 NaN\n",
    "\n",
    "# 统计包含 NaN 的行数\n",
    "num_nan_rows = np.sum(nan_rows)\n",
    "\n",
    "# 获取包含 NaN 的行号\n",
    "nan_row_indices = np.where(nan_rows)[0]\n",
    "\n",
    "print(f\"包含 NaN 的行数: {num_nan_rows}\")\n",
    "print(f\"包含 NaN 的行号: {nan_row_indices}\")"
   ]
  },
  {
   "cell_type": "code",
   "execution_count": 5,
   "id": "af66722d",
   "metadata": {},
   "outputs": [
    {
     "name": "stdout",
     "output_type": "stream",
     "text": [
      "清理后数据集形状: X_train: (5203, 164), y_train: (5203,)\n",
      "清理后数据集形状: X_test: (1267, 164), y_test: (1267,)\n"
     ]
    }
   ],
   "source": [
    "import numpy as np\n",
    "\n",
    "# 删除包含 NaN 的行\n",
    "def remove_nan_rows(X, y):\n",
    "    \"\"\"\n",
    "    删除 X 和 y 中包含 NaN 的行\n",
    "    :param X: 特征矩阵\n",
    "    :param y: 标签数组\n",
    "    :return: 删除 NaN 后的特征矩阵和标签\n",
    "    \"\"\"\n",
    "    mask = ~np.isnan(X).any(axis=1)  # 找到所有不包含 NaN 的行\n",
    "    X_clean = X[mask]\n",
    "    y_clean = y[mask]\n",
    "    return X_clean, y_clean\n",
    "\n",
    "# 清理数据\n",
    "X_clean, y_clean = remove_nan_rows(X, y)\n",
    "\n",
    "# 对训练集和测试集分别清理\n",
    "X_train_clean, y_train_clean = remove_nan_rows(X_train, y_train)\n",
    "X_test_clean, y_test_clean = remove_nan_rows(X_test, y_test)\n",
    "\n",
    "print(f\"清理后数据集形状: X_train: {X_train_clean.shape}, y_train: {y_train_clean.shape}\")\n",
    "print(f\"清理后数据集形状: X_test: {X_test_clean.shape}, y_test: {y_test_clean.shape}\")"
   ]
  },
  {
   "cell_type": "code",
   "execution_count": 13,
   "id": "b6e3adad",
   "metadata": {},
   "outputs": [],
   "source": [
    "import torch\n",
    "from torch.utils.data import Dataset, DataLoader\n",
    "\n",
    "# 自定义 Dataset 类\n",
    "class AnimeDataset(Dataset):\n",
    "    def __init__(self, X, y):\n",
    "        \"\"\"\n",
    "        初始化数据集\n",
    "        :param X: 特征数据\n",
    "        :param y: 标签数据\n",
    "        \"\"\"\n",
    "        self.X = torch.tensor(X, dtype=torch.float32)  # 转换为 PyTorch 张量\n",
    "        self.y = torch.tensor(y, dtype=torch.float32)  # 转换为 PyTorch 张量\n",
    "\n",
    "    def __len__(self):\n",
    "        \"\"\"\n",
    "        返回数据集大小\n",
    "        \"\"\"\n",
    "        return len(self.X)\n",
    "\n",
    "    def __getitem__(self, idx):\n",
    "        \"\"\"\n",
    "        根据索引返回数据和标签\n",
    "        :param idx: 索引\n",
    "        :return: (输入特征, 标签)\n",
    "        \"\"\"\n",
    "        return self.X[idx], self.y[idx]\n",
    "\n",
    "# 数据集封装\n",
    "train_dataset = AnimeDataset(X_train_clean, y_train_clean)\n",
    "test_dataset = AnimeDataset(X_test_clean, y_test_clean)"
   ]
  },
  {
   "cell_type": "code",
   "execution_count": 14,
   "id": "8fbe66d4",
   "metadata": {},
   "outputs": [],
   "source": [
    "import torch\n",
    "import torch.nn as nn\n",
    "import torch.nn.functional as F\n",
    "\n",
    "class AnimeRatingPredictor(nn.Module):\n",
    "    def __init__(self, input_size, hidden_sizes=[512, 256, 128], dropout=0.3):\n",
    "        \"\"\"\n",
    "        初始化网络结构\n",
    "        :param input_size: 输入特征的维度 (历史特征 + 目标特征)\n",
    "        :param hidden_sizes: 隐藏层每层的神经元数量\n",
    "        :param dropout: Dropout 概率，防止过拟合\n",
    "        \"\"\"\n",
    "        super(AnimeRatingPredictor, self).__init__()\n",
    "        \n",
    "        # 定义全连接层\n",
    "        self.fc1 = nn.Linear(input_size, hidden_sizes[0])\n",
    "        self.bn1 = nn.BatchNorm1d(hidden_sizes[0])  # Batch Normalization\n",
    "        \n",
    "        self.fc2 = nn.Linear(hidden_sizes[0], hidden_sizes[1])\n",
    "        self.bn2 = nn.BatchNorm1d(hidden_sizes[1])\n",
    "        \n",
    "        self.fc3 = nn.Linear(hidden_sizes[1], hidden_sizes[2])\n",
    "        self.bn3 = nn.BatchNorm1d(hidden_sizes[2])\n",
    "        \n",
    "        # 输出层\n",
    "        self.output = nn.Linear(hidden_sizes[2], 1)\n",
    "        \n",
    "        # Dropout 层\n",
    "        self.dropout = nn.Dropout(dropout)\n",
    "    \n",
    "    def forward(self, x):\n",
    "        \"\"\"\n",
    "        前向传播\n",
    "        :param x: 输入特征\n",
    "        :return: 预测评分\n",
    "        \"\"\"\n",
    "        # 第一层\n",
    "        x = F.relu(self.bn1(self.fc1(x)))\n",
    "        x = self.dropout(x)\n",
    "        \n",
    "        # 第二层\n",
    "        x = F.relu(self.bn2(self.fc2(x)))\n",
    "        x = self.dropout(x)\n",
    "        \n",
    "        # 第三层\n",
    "        x = F.relu(self.bn3(self.fc3(x)))\n",
    "        x = self.dropout(x)\n",
    "        \n",
    "        # 输出层\n",
    "        x = self.output(x)  # 不使用激活函数，直接输出评分\n",
    "        return x"
   ]
  },
  {
   "cell_type": "code",
   "execution_count": 15,
   "id": "4b2e02fe",
   "metadata": {},
   "outputs": [],
   "source": [
    "# 初始化设备和模型\n",
    "device = torch.device(\"cuda\" if torch.cuda.is_available() else \"cpu\")\n",
    "input_size = X_train_clean.shape[1]  # 输入特征的维度\n",
    "model = AnimeRatingPredictor(input_size=input_size).to(device)\n",
    "\n",
    "# 定义损失函数和优化器\n",
    "criterion = nn.MSELoss()  # 均方误差损失，用于回归任务\n",
    "optimizer = optim.Adam(model.parameters(), lr=0.001)\n",
    "\n",
    "# 训练和测试数据加载器\n",
    "batch_size = 32\n",
    "train_loader = DataLoader(dataset=train_dataset, batch_size=batch_size, shuffle=True)\n",
    "test_loader = DataLoader(dataset=test_dataset, batch_size=batch_size, shuffle=False)\n"
   ]
  },
  {
   "cell_type": "code",
   "execution_count": 16,
   "id": "d943c0c7",
   "metadata": {},
   "outputs": [
    {
     "name": "stdout",
     "output_type": "stream",
     "text": [
      "AnimeRatingPredictor(\n",
      "  (fc1): Linear(in_features=164, out_features=512, bias=True)\n",
      "  (bn1): BatchNorm1d(512, eps=1e-05, momentum=0.1, affine=True, track_running_stats=True)\n",
      "  (fc2): Linear(in_features=512, out_features=256, bias=True)\n",
      "  (bn2): BatchNorm1d(256, eps=1e-05, momentum=0.1, affine=True, track_running_stats=True)\n",
      "  (fc3): Linear(in_features=256, out_features=128, bias=True)\n",
      "  (bn3): BatchNorm1d(128, eps=1e-05, momentum=0.1, affine=True, track_running_stats=True)\n",
      "  (output): Linear(in_features=128, out_features=1, bias=True)\n",
      "  (dropout): Dropout(p=0.3, inplace=False)\n",
      ")\n"
     ]
    }
   ],
   "source": [
    "print(model)"
   ]
  },
  {
   "cell_type": "code",
   "execution_count": 24,
   "id": "b0cd922d",
   "metadata": {},
   "outputs": [
    {
     "name": "stdout",
     "output_type": "stream",
     "text": [
      "Using device: cpu\n",
      "Epoch 1/100, Loss: 0.6168649694853765\n",
      "Epoch 2/100, Loss: 0.5814767253179491\n",
      "Epoch 3/100, Loss: 0.6094565961989888\n",
      "Epoch 4/100, Loss: 0.5914040827678025\n",
      "Epoch 5/100, Loss: 0.5821005039237028\n",
      "Epoch 6/100, Loss: 0.5835066090332218\n",
      "Epoch 7/100, Loss: 0.6077589553558022\n",
      "Epoch 8/100, Loss: 0.5909883197099884\n",
      "Epoch 9/100, Loss: 0.577293900807211\n",
      "Epoch 10/100, Loss: 0.6094248099195445\n",
      "Epoch 11/100, Loss: 0.608347619603748\n",
      "Epoch 12/100, Loss: 0.5662950504959726\n",
      "Epoch 13/100, Loss: 0.5825339462493826\n",
      "Epoch 14/100, Loss: 0.5614465537246751\n",
      "Epoch 15/100, Loss: 0.5812684133008945\n",
      "Epoch 16/100, Loss: 0.5701143582540056\n",
      "Epoch 17/100, Loss: 0.5699604184715295\n",
      "Epoch 18/100, Loss: 0.6064769447398332\n",
      "Epoch 19/100, Loss: 0.5758252833152842\n",
      "Epoch 20/100, Loss: 0.5667128643375233\n",
      "Epoch 21/100, Loss: 0.5668161240823429\n",
      "Epoch 22/100, Loss: 0.5888598177330625\n",
      "Epoch 23/100, Loss: 0.5667562388752135\n",
      "Epoch 24/100, Loss: 0.5651646723593671\n",
      "Epoch 25/100, Loss: 0.560118645338193\n",
      "Epoch 26/100, Loss: 0.5679314150217852\n",
      "Epoch 27/100, Loss: 0.5837857913385871\n",
      "Epoch 28/100, Loss: 0.5914673584004853\n",
      "Epoch 29/100, Loss: 0.5601132533118769\n",
      "Epoch 30/100, Loss: 0.5914327330384518\n",
      "Epoch 31/100, Loss: 0.555313227915325\n",
      "Epoch 32/100, Loss: 0.5786399748976245\n",
      "Epoch 33/100, Loss: 0.595985514986003\n",
      "Epoch 34/100, Loss: 0.550094383351642\n",
      "Epoch 35/100, Loss: 0.5669634999490223\n",
      "Epoch 36/100, Loss: 0.5913301497880666\n",
      "Epoch 37/100, Loss: 0.5603311310516544\n",
      "Epoch 38/100, Loss: 0.550411790700778\n",
      "Epoch 39/100, Loss: 0.5889320677957652\n",
      "Epoch 40/100, Loss: 0.5435581422108082\n",
      "Epoch 41/100, Loss: 0.5381157699903828\n",
      "Epoch 42/100, Loss: 0.5606525263354822\n",
      "Epoch 43/100, Loss: 0.5615324874414257\n",
      "Epoch 44/100, Loss: 0.547423047887767\n",
      "Epoch 45/100, Loss: 0.5518415820744872\n",
      "Epoch 46/100, Loss: 0.5350037590126319\n",
      "Epoch 47/100, Loss: 0.5603178892216069\n",
      "Epoch 48/100, Loss: 0.5432431127396098\n",
      "Epoch 49/100, Loss: 0.5403492277019595\n",
      "Epoch 50/100, Loss: 0.556710997424974\n",
      "Epoch 51/100, Loss: 0.5443182503518883\n",
      "Epoch 52/100, Loss: 0.5422024280747022\n",
      "Epoch 53/100, Loss: 0.5518930838700452\n",
      "Epoch 54/100, Loss: 0.5801890134080055\n",
      "Epoch 55/100, Loss: 0.560742374212464\n",
      "Epoch 56/100, Loss: 0.5384991572129946\n",
      "Epoch 57/100, Loss: 0.5326822551847236\n",
      "Epoch 58/100, Loss: 0.5762237828750552\n",
      "Epoch 59/100, Loss: 0.5387239862073419\n",
      "Epoch 60/100, Loss: 0.5708466357797202\n",
      "Epoch 61/100, Loss: 0.5216466033019902\n",
      "Epoch 62/100, Loss: 0.5369788625854656\n",
      "Epoch 63/100, Loss: 0.545642129391249\n",
      "Epoch 64/100, Loss: 0.5308683189146358\n",
      "Epoch 65/100, Loss: 0.5363896062220532\n",
      "Epoch 66/100, Loss: 0.5440421507585268\n",
      "Epoch 67/100, Loss: 0.5298494285235376\n",
      "Epoch 68/100, Loss: 0.5555042871302622\n",
      "Epoch 69/100, Loss: 0.523198501464048\n",
      "Epoch 70/100, Loss: 0.5618795586144266\n",
      "Epoch 71/100, Loss: 0.5342902192857368\n",
      "Epoch 72/100, Loss: 0.5387785474946893\n",
      "Epoch 73/100, Loss: 0.5271723014445393\n",
      "Epoch 74/100, Loss: 0.5473382038755651\n",
      "Epoch 75/100, Loss: 0.524503038704761\n",
      "Epoch 76/100, Loss: 0.5498845130205154\n",
      "Epoch 77/100, Loss: 0.5297310771020644\n",
      "Epoch 78/100, Loss: 0.5098446181581064\n",
      "Epoch 79/100, Loss: 0.517777739949753\n",
      "Epoch 80/100, Loss: 0.5125466007396488\n",
      "Epoch 81/100, Loss: 0.5350326178081196\n",
      "Epoch 82/100, Loss: 0.5232074374070197\n",
      "Epoch 83/100, Loss: 0.5408421330656742\n",
      "Epoch 84/100, Loss: 0.5320240101017104\n",
      "Epoch 85/100, Loss: 0.5030356830248803\n",
      "Epoch 86/100, Loss: 0.5144291596909973\n",
      "Epoch 87/100, Loss: 0.545433856684006\n",
      "Epoch 88/100, Loss: 0.5066742492051213\n",
      "Epoch 89/100, Loss: 0.5008357289744301\n",
      "Epoch 90/100, Loss: 0.5182135524742443\n",
      "Epoch 91/100, Loss: 0.5155569454826461\n",
      "Epoch 92/100, Loss: 0.5073560913281938\n",
      "Epoch 93/100, Loss: 0.5244681775752752\n",
      "Epoch 94/100, Loss: 0.49878538870738326\n",
      "Epoch 95/100, Loss: 0.519760969957691\n",
      "Epoch 96/100, Loss: 0.4926327954223551\n",
      "Epoch 97/100, Loss: 0.520477034654354\n",
      "Epoch 98/100, Loss: 0.5051359056146598\n",
      "Epoch 99/100, Loss: 0.5336212565196804\n",
      "Epoch 100/100, Loss: 0.514933496530802\n",
      "Test Loss: 1.774481113255024\n"
     ]
    }
   ],
   "source": [
    "# 训练模型\n",
    "def train_model(model, train_loader, criterion, optimizer, device, epochs):\n",
    "    model.train()  # 设置为训练模式\n",
    "    for epoch in range(epochs):\n",
    "        total_loss = 0\n",
    "        for batch_idx, (inputs, targets) in enumerate(train_loader):\n",
    "            inputs, targets = inputs.to(device), targets.to(device)\n",
    "            \n",
    "            # 前向传播\n",
    "            outputs = model(inputs)\n",
    "            loss = criterion(outputs.squeeze(), targets)  # 注意 squeeze() 将输出从 (batch_size, 1) 变为 (batch_size)\n",
    "            \n",
    "            # 反向传播\n",
    "            optimizer.zero_grad()\n",
    "            loss.backward()\n",
    "            optimizer.step()\n",
    "            \n",
    "            total_loss += loss.item()\n",
    "        \n",
    "        print(f\"Epoch {epoch+1}/{epochs}, Loss: {total_loss/len(train_loader)}\")\n",
    "\n",
    "# 评估模型\n",
    "def evaluate_model(model, test_loader, criterion, device):\n",
    "    model.eval()  # 设置为评估模式\n",
    "    total_loss = 0\n",
    "    with torch.no_grad():\n",
    "        for inputs, targets in test_loader:\n",
    "            inputs, targets = inputs.to(device), targets.to(device)\n",
    "            outputs = model(inputs)\n",
    "            loss = criterion(outputs.squeeze(), targets)\n",
    "            total_loss += loss.item()\n",
    "    print(f\"Test Loss: {total_loss/len(test_loader)}\")\n",
    "\n",
    "# 检查是否有 GPU\n",
    "device = torch.device(\"cuda\" if torch.cuda.is_available() else \"cpu\")\n",
    "print(f\"Using device: {device}\")\n",
    "\n",
    "# 模型训练\n",
    "train_model(model, train_loader, criterion, optimizer, device, epochs=100)\n",
    "\n",
    "# 模型评估\n",
    "evaluate_model(model, test_loader, criterion, device)"
   ]
  },
  {
   "cell_type": "code",
   "execution_count": 25,
   "id": "0f25c1d8",
   "metadata": {},
   "outputs": [],
   "source": [
    "def evaluate_model(model, test_loader, criterion):\n",
    "    model.eval()  # 设置模型为评估模式\n",
    "    test_loss = 0.0\n",
    "    all_predictions = []\n",
    "    all_targets = []\n",
    "\n",
    "    with torch.no_grad():  # 禁用梯度计算\n",
    "        for X_batch, y_batch in test_loader:  # 解包数据\n",
    "            # 将数据加载到设备\n",
    "            X_batch = X_batch.to(device)\n",
    "            y_batch = y_batch.to(device)\n",
    "            \n",
    "            # 模型预测\n",
    "            outputs = model(X_batch)\n",
    "            loss = criterion(outputs.squeeze(), y_batch)\n",
    "            test_loss += loss.item()\n",
    "            \n",
    "            # 保存预测值和真实值，用于后续计算指标\n",
    "            all_predictions.extend(outputs.squeeze().cpu().numpy())\n",
    "            all_targets.extend(y_batch.cpu().numpy())\n",
    "    \n",
    "    # 计算平均损失\n",
    "    avg_loss = test_loss / len(test_loader)\n",
    "    \n",
    "    # 转换为 NumPy 数组\n",
    "    all_predictions = np.array(all_predictions)\n",
    "    all_targets = np.array(all_targets)\n",
    "    \n",
    "    # 计算其他评估指标\n",
    "    mae = np.mean(np.abs(all_predictions - all_targets))  # 平均绝对误差\n",
    "    mse = np.mean((all_predictions - all_targets)**2)     # 均方误差\n",
    "    r2 = 1 - (np.sum((all_targets - all_predictions)**2) / np.sum((all_targets - np.mean(all_targets))**2))\n",
    "\n",
    "    return avg_loss, mae, mse, r2"
   ]
  },
  {
   "cell_type": "code",
   "execution_count": 26,
   "id": "a2b81ac8",
   "metadata": {},
   "outputs": [
    {
     "name": "stdout",
     "output_type": "stream",
     "text": [
      "Test Loss (MSE): 1.7745\n",
      "Mean Absolute Error (MAE): 1.0132\n",
      "Mean Squared Error (MSE): 1.7679\n",
      "R² Score: 0.1918\n"
     ]
    }
   ],
   "source": [
    "# 训练完成后，评估模型\n",
    "test_loss, mae, mse, r2 = evaluate_model(model, test_loader, criterion)\n",
    "\n",
    "print(f\"Test Loss (MSE): {test_loss:.4f}\")\n",
    "print(f\"Mean Absolute Error (MAE): {mae:.4f}\")\n",
    "print(f\"Mean Squared Error (MSE): {mse:.4f}\")\n",
    "print(f\"R² Score: {r2:.4f}\")"
   ]
  },
  {
   "cell_type": "code",
   "execution_count": 2,
   "id": "81da9f89",
   "metadata": {},
   "outputs": [],
   "source": [
    "import torch"
   ]
  },
  {
   "cell_type": "code",
   "execution_count": 3,
   "id": "4a5cf1b0",
   "metadata": {},
   "outputs": [
    {
     "ename": "NameError",
     "evalue": "name 'model' is not defined",
     "output_type": "error",
     "traceback": [
      "\u001b[1;31m---------------------------------------------------------------------------\u001b[0m",
      "\u001b[1;31mNameError\u001b[0m                                 Traceback (most recent call last)",
      "Cell \u001b[1;32mIn[3], line 1\u001b[0m\n\u001b[1;32m----> 1\u001b[0m torch\u001b[38;5;241m.\u001b[39msave(\u001b[43mmodel\u001b[49m\u001b[38;5;241m.\u001b[39mstate_dict(), \u001b[38;5;124m\"\u001b[39m\u001b[38;5;124mmodel_weights.pth\u001b[39m\u001b[38;5;124m\"\u001b[39m)\n",
      "\u001b[1;31mNameError\u001b[0m: name 'model' is not defined"
     ]
    }
   ],
   "source": [
    "torch.save(model.state_dict(), \"model_weights.pth\")"
   ]
  },
  {
   "cell_type": "code",
   "execution_count": null,
   "id": "e698b981",
   "metadata": {},
   "outputs": [],
   "source": []
  }
 ],
 "metadata": {
  "kernelspec": {
   "display_name": "Python 3",
   "language": "python",
   "name": "python3"
  },
  "language_info": {
   "codemirror_mode": {
    "name": "ipython",
    "version": 3
   },
   "file_extension": ".py",
   "mimetype": "text/x-python",
   "name": "python",
   "nbconvert_exporter": "python",
   "pygments_lexer": "ipython3",
   "version": "3.10.15"
  }
 },
 "nbformat": 4,
 "nbformat_minor": 5
}
