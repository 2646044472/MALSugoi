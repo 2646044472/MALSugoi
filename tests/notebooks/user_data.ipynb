{
 "cells": [
  {
   "cell_type": "code",
   "execution_count": null,
   "metadata": {},
   "outputs": [],
   "source": [
    "import os\n",
    "import sys\n",
    "\n",
    "# run this block once only\n",
    "project_root = os.path.abspath(\"../../\")  # 根据文件层级调整路径\n",
    "os.chdir(project_root)\n",
    "\n",
    "if project_root not in sys.path:\n",
    "    sys.path.insert(0, project_root)\n"
   ]
  },
  {
   "cell_type": "code",
   "execution_count": 2,
   "metadata": {},
   "outputs": [],
   "source": [
    "import pandas as pd"
   ]
  },
  {
   "cell_type": "code",
   "execution_count": 3,
   "metadata": {},
   "outputs": [
    {
     "name": "stdout",
     "output_type": "stream",
     "text": [
      "c:\\Users\\bankey\\Documents\\GitHub\\MALSugoi\n"
     ]
    }
   ],
   "source": [
    "current_path = os.getcwd()\n",
    "print(current_path)"
   ]
  },
  {
   "cell_type": "code",
   "execution_count": 6,
   "metadata": {},
   "outputs": [
    {
     "name": "stdout",
     "output_type": "stream",
     "text": [
      "./data/user_animelist/anime_info.csv\n"
     ]
    }
   ],
   "source": [
    "file_path = './data/user_animelist/anime_info.csv'\n",
    "print(file_path)"
   ]
  },
  {
   "cell_type": "code",
   "execution_count": 7,
   "metadata": {},
   "outputs": [],
   "source": [
    "df = pd.read_csv(file_path)"
   ]
  },
  {
   "cell_type": "code",
   "execution_count": 8,
   "metadata": {},
   "outputs": [
    {
     "data": {
      "text/html": [
       "<div>\n",
       "<style scoped>\n",
       "    .dataframe tbody tr th:only-of-type {\n",
       "        vertical-align: middle;\n",
       "    }\n",
       "\n",
       "    .dataframe tbody tr th {\n",
       "        vertical-align: top;\n",
       "    }\n",
       "\n",
       "    .dataframe thead th {\n",
       "        text-align: right;\n",
       "    }\n",
       "</style>\n",
       "<table border=\"1\" class=\"dataframe\">\n",
       "  <thead>\n",
       "    <tr style=\"text-align: right;\">\n",
       "      <th></th>\n",
       "      <th>username</th>\n",
       "      <th>anime</th>\n",
       "      <th>rating</th>\n",
       "    </tr>\n",
       "  </thead>\n",
       "  <tbody>\n",
       "    <tr>\n",
       "      <th>0</th>\n",
       "      <td>cindia</td>\n",
       "      <td>Loving Angel Angelique: When Hearts Awaken</td>\n",
       "      <td>-</td>\n",
       "    </tr>\n",
       "    <tr>\n",
       "      <th>1</th>\n",
       "      <td>cindia</td>\n",
       "      <td>La corda d'oro: primo passo</td>\n",
       "      <td>9</td>\n",
       "    </tr>\n",
       "    <tr>\n",
       "      <th>2</th>\n",
       "      <td>Yuber</td>\n",
       "      <td>Drifters</td>\n",
       "      <td>-</td>\n",
       "    </tr>\n",
       "    <tr>\n",
       "      <th>3</th>\n",
       "      <td>Yuber</td>\n",
       "      <td>Hakyu Hoshin Engi</td>\n",
       "      <td>-</td>\n",
       "    </tr>\n",
       "    <tr>\n",
       "      <th>4</th>\n",
       "      <td>Yuber</td>\n",
       "      <td>JoJo's Bizarre Adventure: Diamond Is Unbreakable</td>\n",
       "      <td>9</td>\n",
       "    </tr>\n",
       "    <tr>\n",
       "      <th>...</th>\n",
       "      <td>...</td>\n",
       "      <td>...</td>\n",
       "      <td>...</td>\n",
       "    </tr>\n",
       "    <tr>\n",
       "      <th>65961</th>\n",
       "      <td>aria__</td>\n",
       "      <td>Kamichu!</td>\n",
       "      <td>8</td>\n",
       "    </tr>\n",
       "    <tr>\n",
       "      <th>65962</th>\n",
       "      <td>aria__</td>\n",
       "      <td>Karas</td>\n",
       "      <td>7</td>\n",
       "    </tr>\n",
       "    <tr>\n",
       "      <th>65963</th>\n",
       "      <td>aria__</td>\n",
       "      <td>Kurenai</td>\n",
       "      <td>-</td>\n",
       "    </tr>\n",
       "    <tr>\n",
       "      <th>65964</th>\n",
       "      <td>aria__</td>\n",
       "      <td>Monster</td>\n",
       "      <td>-</td>\n",
       "    </tr>\n",
       "    <tr>\n",
       "      <th>65965</th>\n",
       "      <td>aria__</td>\n",
       "      <td>Zoku Sayonara Zetsubou Sensei</td>\n",
       "      <td>-</td>\n",
       "    </tr>\n",
       "  </tbody>\n",
       "</table>\n",
       "<p>65966 rows × 3 columns</p>\n",
       "</div>"
      ],
      "text/plain": [
       "      username                                             anime rating\n",
       "0       cindia        Loving Angel Angelique: When Hearts Awaken      -\n",
       "1       cindia                       La corda d'oro: primo passo      9\n",
       "2        Yuber                                          Drifters      -\n",
       "3        Yuber                                 Hakyu Hoshin Engi      -\n",
       "4        Yuber  JoJo's Bizarre Adventure: Diamond Is Unbreakable      9\n",
       "...        ...                                               ...    ...\n",
       "65961   aria__                                          Kamichu!      8\n",
       "65962   aria__                                             Karas      7\n",
       "65963   aria__                                           Kurenai      -\n",
       "65964   aria__                                           Monster      -\n",
       "65965   aria__                     Zoku Sayonara Zetsubou Sensei      -\n",
       "\n",
       "[65966 rows x 3 columns]"
      ]
     },
     "execution_count": 8,
     "metadata": {},
     "output_type": "execute_result"
    }
   ],
   "source": [
    "df"
   ]
  },
  {
   "cell_type": "code",
   "execution_count": null,
   "metadata": {},
   "outputs": [],
   "source": []
  }
 ],
 "metadata": {
  "kernelspec": {
   "display_name": "MALSugoi",
   "language": "python",
   "name": "python3"
  },
  "language_info": {
   "codemirror_mode": {
    "name": "ipython",
    "version": 3
   },
   "file_extension": ".py",
   "mimetype": "text/x-python",
   "name": "python",
   "nbconvert_exporter": "python",
   "pygments_lexer": "ipython3",
   "version": "3.10.15"
  }
 },
 "nbformat": 4,
 "nbformat_minor": 4
}
